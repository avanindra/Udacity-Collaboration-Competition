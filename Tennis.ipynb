{
 "cells": [
  {
   "cell_type": "markdown",
   "source": [
    "# Collaboration and Competition\n",
    "\n",
    "---\n",
    "\n",
    "In this notebook, you will learn how to use the Unity ML-Agents environment for the third project of the [Deep Reinforcement Learning Nanodegree](https://www.udacity.com/course/deep-reinforcement-learning-nanodegree--nd893) program.\n",
    "\n",
    "### 1. Start the Environment\n",
    "\n",
    "We begin by importing the necessary packages.  If the code cell below returns an error, please revisit the project instructions to double-check that you have installed [Unity ML-Agents](https://github.com/Unity-Technologies/ml-agents/blob/master/docs/Installation.md) and [NumPy](http://www.numpy.org/)."
   ],
   "metadata": {}
  },
  {
   "cell_type": "code",
   "execution_count": 1,
   "source": [
    "from unityagents import UnityEnvironment\r\n",
    "import numpy as np"
   ],
   "outputs": [],
   "metadata": {}
  },
  {
   "cell_type": "markdown",
   "source": [
    "Next, we will start the environment!  **_Before running the code cell below_**, change the `file_name` parameter to match the location of the Unity environment that you downloaded.\n",
    "\n",
    "- **Mac**: `\"path/to/Tennis.app\"`\n",
    "- **Windows** (x86): `\"path/to/Tennis_Windows_x86/Tennis.exe\"`\n",
    "- **Windows** (x86_64): `\"path/to/Tennis_Windows_x86_64/Tennis.exe\"`\n",
    "- **Linux** (x86): `\"path/to/Tennis_Linux/Tennis.x86\"`\n",
    "- **Linux** (x86_64): `\"path/to/Tennis_Linux/Tennis.x86_64\"`\n",
    "- **Linux** (x86, headless): `\"path/to/Tennis_Linux_NoVis/Tennis.x86\"`\n",
    "- **Linux** (x86_64, headless): `\"path/to/Tennis_Linux_NoVis/Tennis.x86_64\"`\n",
    "\n",
    "For instance, if you are using a Mac, then you downloaded `Tennis.app`.  If this file is in the same folder as the notebook, then the line below should appear as follows:\n",
    "```\n",
    "env = UnityEnvironment(file_name=\"Tennis.app\")\n",
    "```"
   ],
   "metadata": {}
  },
  {
   "cell_type": "code",
   "execution_count": null,
   "source": [
    "env = UnityEnvironment(file_name= \"C:/projects/deep-reinforcement-learning/p3_collab-compet/Tennis_Windows_x86_64/Tennis.exe\")"
   ],
   "outputs": [],
   "metadata": {}
  },
  {
   "cell_type": "markdown",
   "source": [
    "Environments contain **_brains_** which are responsible for deciding the actions of their associated agents. Here we check for the first brain available, and set it as the default brain we will be controlling from Python."
   ],
   "metadata": {}
  },
  {
   "cell_type": "code",
   "execution_count": null,
   "source": [
    "# get the default brain\r\n",
    "brain_name = env.brain_names[0]\r\n",
    "brain = env.brains[brain_name]"
   ],
   "outputs": [],
   "metadata": {}
  },
  {
   "cell_type": "markdown",
   "source": [
    "### 2. Examine the State and Action Spaces\n",
    "\n",
    "In this environment, two agents control rackets to bounce a ball over a net. If an agent hits the ball over the net, it receives a reward of +0.1.  If an agent lets a ball hit the ground or hits the ball out of bounds, it receives a reward of -0.01.  Thus, the goal of each agent is to keep the ball in play.\n",
    "\n",
    "The observation space consists of 8 variables corresponding to the position and velocity of the ball and racket. Two continuous actions are available, corresponding to movement toward (or away from) the net, and jumping. \n",
    "\n",
    "Run the code cell below to print some information about the environment."
   ],
   "metadata": {}
  },
  {
   "cell_type": "code",
   "execution_count": null,
   "source": [
    "# reset the environment\r\n",
    "env_info = env.reset(train_mode=True)[brain_name]\r\n",
    "\r\n",
    "# number of agents \r\n",
    "num_agents = len(env_info.agents)\r\n",
    "print('Number of agents:', num_agents)\r\n",
    "\r\n",
    "# size of each action\r\n",
    "action_size = brain.vector_action_space_size\r\n",
    "print('Size of each action:', action_size)\r\n",
    "\r\n",
    "# examine the state space \r\n",
    "states = env_info.vector_observations\r\n",
    "state_size = states.shape[1]\r\n",
    "print('There are {} agents. Each observes a state with length: {}'.format(states.shape[0], state_size))\r\n",
    "print('The state for the first agent looks like:', states[0])"
   ],
   "outputs": [],
   "metadata": {}
  },
  {
   "cell_type": "markdown",
   "source": [
    "### 3. Take Random Actions in the Environment\n",
    "\n",
    "In the next code cell, you will learn how to use the Python API to control the agents and receive feedback from the environment.\n",
    "\n",
    "Once this cell is executed, you will watch the agents' performance, if they select actions at random with each time step.  A window should pop up that allows you to observe the agents.\n",
    "\n",
    "Of course, as part of the project, you'll have to change the code so that the agents are able to use their experiences to gradually choose better actions when interacting with the environment!"
   ],
   "metadata": {}
  },
  {
   "cell_type": "code",
   "execution_count": null,
   "source": [
    "for i in range(1, 6):                                      # play game for 5 episodes\r\n",
    "    env_info = env.reset(train_mode=False)[brain_name]     # reset the environment    \r\n",
    "    states = env_info.vector_observations                  # get the current state (for each agent)\r\n",
    "    scores = np.zeros(num_agents)                          # initialize the score (for each agent)\r\n",
    "    while True:\r\n",
    "        actions = np.random.randn(num_agents, action_size) # select an action (for each agent)\r\n",
    "        actions = np.clip(actions, -1, 1)                  # all actions between -1 and 1\r\n",
    "        env_info = env.step(actions)[brain_name]           # send all actions to tne environment\r\n",
    "        next_states = env_info.vector_observations         # get next state (for each agent)\r\n",
    "        rewards = env_info.rewards                         # get reward (for each agent)\r\n",
    "        dones = env_info.local_done                        # see if episode finished\r\n",
    "        scores += env_info.rewards                         # update the score (for each agent)\r\n",
    "        states = next_states                               # roll over states to next time step\r\n",
    "        if np.any(dones):                                  # exit loop if episode finished\r\n",
    "            break\r\n",
    "    print('Score (max over agents) from episode {}: {}'.format(i, np.max(scores)))"
   ],
   "outputs": [],
   "metadata": {}
  },
  {
   "cell_type": "markdown",
   "source": [
    "When finished, you can close the environment."
   ],
   "metadata": {}
  },
  {
   "cell_type": "code",
   "execution_count": null,
   "source": [
    "env.close()"
   ],
   "outputs": [],
   "metadata": {}
  },
  {
   "cell_type": "markdown",
   "source": [
    "### 4. It's Your Turn!\n",
    "\n",
    "Now it's your turn to train your own agent to solve the environment!  When training the environment, set `train_mode=True`, so that the line for resetting the environment looks like the following:\n",
    "```python\n",
    "env_info = env.reset(train_mode=True)[brain_name]\n",
    "```"
   ],
   "metadata": {}
  },
  {
   "cell_type": "code",
   "execution_count": 2,
   "source": [
    "from unityagents import UnityEnvironment\r\n",
    "\r\n",
    "import numpy as np\r\n",
    "import random\r\n",
    "import torch\r\n",
    "import numpy as np\r\n",
    "\r\n",
    "from collections import deque\r\n",
    "import matplotlib.pyplot as plt\r\n",
    "import time\r\n",
    "from tennisagent import Agent\r\n",
    "from tennismemory import ReplayBuffer\r\n",
    "\r\n",
    "\r\n",
    "\r\n",
    "seed = 777 \r\n",
    "\r\n",
    "device = torch.device(\"cuda:0\" if torch.cuda.is_available() else \"cpu\")\r\n",
    "\r\n",
    "env_path = \"C:/projects/deep-reinforcement-learning/p3_collab-compet/Tennis_Windows_x86_64/Tennis.exe\"  \r\n",
    "\r\n",
    "max_num_episodes = 1000    \r\n",
    "\r\n",
    "memory_capacity = int(1e6)      # Experience replay memory capacity\r\n",
    "batch_size = 256             # Batch size: Number of memories will be sampled to learn \r\n",
    "\r\n",
    "priority_exponent = 0.5         # Prioritised experience replay exponent (originally denoted α)\r\n",
    "priority_weight = 0.4           # Initial prioritised experience replay importance sampling weight\r\n",
    "\r\n",
    "random.seed(seed)\r\n",
    "torch.manual_seed(random.randint(1, 10000))\r\n",
    "\r\n",
    "torch.cuda.manual_seed(random.randint(1, 10000))\r\n",
    "\r\n",
    "env = UnityEnvironment(file_name = env_path)\r\n",
    "\r\n",
    "# get the default brain\r\n",
    "brain_name = env.brain_names[0]\r\n",
    "brain = env.brains[brain_name]\r\n",
    "\r\n",
    "# reset the environment\r\n",
    "env_info = env.reset(train_mode=True)[brain_name]\r\n",
    "\r\n",
    "# number of agents\r\n",
    "num_agents = len(env_info.agents)\r\n",
    "print('Number of agents:', num_agents)\r\n",
    "\r\n",
    "# size of each action\r\n",
    "action_size = brain.vector_action_space_size\r\n",
    "print('Size of each action:', action_size)\r\n",
    "\r\n",
    "# examine the state space \r\n",
    "states = env_info.vector_observations\r\n",
    "state_size = states.shape[1]\r\n",
    "print('There are {} agents. Each observes a state with length: {}'.format(states.shape[0], state_size))\r\n",
    "print('The state for the first agent looks like:', states[0])\r\n",
    "\r\n",
    "# Construct the Agent\r\n",
    "agent = Agent(state_size=state_size, action_size=action_size, seed = 777)\r\n",
    "\r\n",
    "# Replay memory: We create the Replay Mem outside the Agent so we can share 1 single Mem with two agents. \r\n",
    "memory = ReplayBuffer(action_size, memory_capacity, batch_size, seed)\r\n"
   ],
   "outputs": [
    {
     "output_type": "stream",
     "name": "stderr",
     "text": [
      "INFO:unityagents:\n",
      "'Academy' started successfully!\n",
      "Unity Academy name: Academy\n",
      "        Number of Brains: 1\n",
      "        Number of External Brains : 1\n",
      "        Lesson number : 0\n",
      "        Reset Parameters :\n",
      "\t\t\n",
      "Unity brain name: TennisBrain\n",
      "        Number of Visual Observations (per agent): 0\n",
      "        Vector Observation space type: continuous\n",
      "        Vector Observation space size (per agent): 8\n",
      "        Number of stacked Vector Observation: 3\n",
      "        Vector Action space type: continuous\n",
      "        Vector Action space size (per agent): 2\n",
      "        Vector Action descriptions: , \n"
     ]
    },
    {
     "output_type": "stream",
     "name": "stdout",
     "text": [
      "Number of agents: 2\n",
      "Size of each action: 2\n",
      "There are 2 agents. Each observes a state with length: 24\n",
      "The state for the first agent looks like: [ 0.          0.          0.          0.          0.          0.\n",
      "  0.          0.          0.          0.          0.          0.\n",
      "  0.          0.          0.          0.         -6.65278625 -1.5\n",
      " -0.          0.          6.83172083  6.         -0.          0.        ]\n"
     ]
    },
    {
     "output_type": "stream",
     "name": "stderr",
     "text": [
      "C:\\ProgramData\\Anaconda3\\envs\\drlnd\\lib\\site-packages\\torch\\cuda\\__init__.py:114: UserWarning: \n",
      "    Found GPU0 Tesla T4 which requires CUDA_VERSION >= 9000 for\n",
      "     optimal performance and fast startup time, but your PyTorch was compiled\n",
      "     with CUDA_VERSION 8000. Please install the correct PyTorch binary\n",
      "     using instructions from http://pytorch.org\n",
      "    \n",
      "  warnings.warn(incorrect_binary_warn % (d, name, 9000, CUDA_VERSION))\n"
     ]
    }
   ],
   "metadata": {}
  },
  {
   "cell_type": "markdown",
   "source": [
    "Function for training the tennis agent."
   ],
   "metadata": {}
  },
  {
   "cell_type": "code",
   "execution_count": 3,
   "source": [
    "\r\n",
    "def seeding(seed=1):\r\n",
    "    np.random.seed(seed)\r\n",
    "    torch.manual_seed(seed)\r\n",
    "\r\n",
    "def ddpg(agent, memory , StopWhenSolved = True):\r\n",
    "    \r\n",
    "    best_scores = deque(maxlen=100)\r\n",
    "    scores_global = []\r\n",
    "    average_global = []\r\n",
    "    min_global = []\r\n",
    "    max_global = []\r\n",
    "    time_taken = 0\r\n",
    "    Start_time = time.time()\r\n",
    "        \r\n",
    "    for i_episode in range(1, agent.max_num_episodes):\r\n",
    "\r\n",
    "        env_info = env.reset(train_mode=True)[brain_name]     \t# reset the environment    \r\n",
    "        states = env_info.vector_observations                  \t# get the current state (for each agent)\r\n",
    "        scores = np.zeros(num_agents)                          \t# initialize the score (for each agent)\r\n",
    "        agent.reset()\r\n",
    "        \r\n",
    "        timestep = 0\r\n",
    "        dones = np.zeros(num_agents) \r\n",
    "\r\n",
    "        while timestep <= agent.T_max:\r\n",
    "            timestep += 1 \r\n",
    "            actions = agent.act(states)\r\n",
    "            env_info = env.step(actions)[brain_name]           # send all actions to the environment\r\n",
    "            next_states = env_info.vector_observations         # get next state (for each agent)\r\n",
    "            rewards = env_info.rewards                         # get reward (for each agent)\r\n",
    "            dones = env_info.local_done                        # see if episode finished    \r\n",
    "\t\t\t\t\t\t\r\n",
    "            agent.memorize(states, actions, rewards, next_states, dones, memory)\r\n",
    "\t\t\t\r\n",
    "            agent.learn(memory,timestep)\r\n",
    "\t\t\t\t\t\t\r\n",
    "            states = next_states\r\n",
    "            scores += rewards                                    # roll over the state to next time step        \r\n",
    "\t\t\t\r\n",
    "\t\t\t             \r\n",
    "                    \r\n",
    "        episode_avg_score = np.mean(scores)                \r\n",
    "        scores_global.append(episode_avg_score)\r\n",
    "                \r\n",
    "        min_global.append(np.min(scores))  \r\n",
    "        max_global.append(np.max(scores)) \r\n",
    "        \r\n",
    "        best_scores.append(max_global[len(max_global)-1])        \r\n",
    "        best_scores_average = np.mean(best_scores)\r\n",
    "        \r\n",
    "        \r\n",
    "        print('\\rEpisode {} \\tlast 100 avg: {:.2f} \\tavg score: {:.2f} '.format(i_episode, best_scores_average, episode_avg_score), end=\"\")\r\n",
    "        if i_episode % 10 == 0:\r\n",
    "            torch.save(agent.actor_local.state_dict(), 'checkpoint_actor.pth')\r\n",
    "            torch.save(agent.critic_local.state_dict(), 'checkpoint_critic.pth')\r\n",
    "            print('\\rEpisode {} \\tlast 100 avg: {:.2f}'.format(i_episode, best_scores_average)) \r\n",
    "        \r\n",
    "        if  (StopWhenSolved and best_scores_average >= 0.5):            \r\n",
    "            End_time = time.time()\r\n",
    "            time_taken = (End_time - Start_time)/60\r\n",
    "            print('\\nSolved in {:d} episodes!\\tbest_scores_average: {:.2f}, time taken(min): {}'.\r\n",
    "                  format(i_episode, best_scores_average, (End_time - Start_time)/60))\r\n",
    "            torch.save(agent.actor_local.state_dict(), 'actormodel.pth')\r\n",
    "            torch.save(agent.critic_local.state_dict(), 'criticmodel.pth')            \r\n",
    "            break\r\n",
    "     \r\n",
    "    return scores_global, average_global, max_global, min_global, time_taken\r\n",
    "\r\n"
   ],
   "outputs": [],
   "metadata": {}
  },
  {
   "cell_type": "markdown",
   "source": [
    "Now do the training and save the results."
   ],
   "metadata": {}
  },
  {
   "cell_type": "code",
   "execution_count": 4,
   "source": [
    "scores_global, average_global, max_global, min_global, time_taken = ddpg(agent, memory, max_num_episodes)\r\n",
    "\r\n",
    "fig = plt.figure()\r\n",
    "ax = fig.add_subplot(111)\r\n",
    "plt.plot(np.arange(1, len(scores_global)+1), scores_global)\r\n",
    "plt.plot(np.arange(1, len(average_global)+1), average_global)\r\n",
    "plt.ylabel('Score')\r\n",
    "plt.xlabel('Episode #')\r\n",
    "plt.legend(['Episode Avg', 'Last 100 Average'], loc='lower right')\r\n",
    "plt.show()\r\n",
    "\r\n",
    "\r\n",
    "env.close()"
   ],
   "outputs": [
    {
     "output_type": "stream",
     "name": "stdout",
     "text": [
      "Episode 10 \tlast 100 avg: -0.30\n",
      "Episode 20 \tlast 100 avg: -0.31\n",
      "Episode 30 \tlast 100 avg: -0.31\n",
      "Episode 40 \tlast 100 avg: -0.24\n",
      "Episode 50 \tlast 100 avg: -0.14\n",
      "Episode 60 \tlast 100 avg: -0.17\n",
      "Episode 70 \tlast 100 avg: -0.06\n",
      "Episode 80 \tlast 100 avg: 0.16\n",
      "Episode 90 \tlast 100 avg: 0.35\n",
      "Episode 100 \tlast 100 avg: 0.48\n",
      "Episode 102 \tlast 100 avg: 0.51 \tavg score: 1.28 \n",
      "Solved in 102 episodes!\tbest_scores_average: 0.51, time taken(min): 17.055538896719614\n"
     ]
    },
    {
     "output_type": "display_data",
     "data": {
      "text/plain": [
       "<Figure size 432x288 with 1 Axes>"
      ],
      "image/png": "[encoded data removed]"
     },
     "metadata": {
      "needs_background": "light"
     }
    }
   ],
   "metadata": {}
  }
 ],
 "metadata": {
  "kernelspec": {
   "name": "python3",
   "display_name": "Python 3.6.9 64-bit ('drlnd': conda)"
  },
  "language_info": {
   "codemirror_mode": {
    "name": "ipython",
    "version": 3
   },
   "file_extension": ".py",
   "mimetype": "text/x-python",
   "name": "python",
   "nbconvert_exporter": "python",
   "pygments_lexer": "ipython3",
   "version": "3.6.9"
  },
  "interpreter": {
   "hash": "9fc941ae741b42bd5ee8860c2b645f74526ceb53039a7206b8cef08e93469443"
  }
 },
 "nbformat": 4,
 "nbformat_minor": 2
}